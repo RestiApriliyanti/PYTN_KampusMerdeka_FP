{
 "cells": [
  {
   "cell_type": "markdown",
   "metadata": {},
   "source": [
    "<H3 align='center'> Python Final Project 1 : <br> Uber and Lyft Dataset Boston, MA </H3>"
   ]
  },
  {
   "cell_type": "markdown",
   "metadata": {},
   "source": [
    "<div style=\"text-align:center\">\n",
    "    <img src=\"https://east.vc/wp-content/uploads/2020/01/hacktiv8-1.png\" alt=\"Logo Hacktiv8\" />\n",
    "</div>"
   ]
  },
  {
   "cell_type": "markdown",
   "metadata": {},
   "source": [
    "<div style=\"text-align:center\">\n",
    "    <u> OLEH : </u><br></br>\n",
    "    Kelompok 4\n",
    "    <table style=\"border:none; margin: 0 auto; text-align:left;\">\n",
    "        <tr>\n",
    "            <td style=\"border: none;\">Resti Apriliyanti</td>\n",
    "            <td style=\"border: none;\">(PYTN-KS20-011)</td>\n",
    "        </tr>\n",
    "        <tr>\n",
    "            <td style=\"border: none;\">Andrena Dhiffa Salsabila</td>\n",
    "            <td style=\"border: none;\">(PYTN-KS20-02)</td>\n",
    "        </tr>\n",
    "    </table>    \n",
    "        <br>Program : Python for Data Science\n",
    "</div>\n",
    "<br></br>"
   ]
  },
  {
   "cell_type": "markdown",
   "metadata": {},
   "source": [
    "## Overview"
   ]
  },
  {
   "cell_type": "markdown",
   "metadata": {},
   "source": [
    "### Introduction\n",
    "<p style=\"text-align: justify; font-size: 14px;\">\n",
    "    Linear regression merupakan salah satu algoritma yang digunakan pada data science dan tergolong pada algoritma supervised learning. Algoritma ini menggunakan prinsip regresi. Regresi membuat model prediksi untuk target variabel berdasarkan dari variabel bebasnya. Jenis algoritma ini sering digunakan untuk mencari hubungan antara variabel-variabel yang ada dan prediksinya. Sehingga pada linear regression, ditujukan untuk melakukan prediksi pada variabel terikat (y) berdasarkan variabel bebas yang diberikan (x). Hasil akhirnya berupa hubungan linear antara variabel input (x) dengan variabel output(y).\n",
    "</p>\n",
    "\n",
    "<p style=\"text-align: justify; font-size: 14px;\">\n",
    "    Dalam pendefinisian model ini kami menggunakan model Linear Regression untuk memprediksi price. Alasan menggunakan model Linear Regression dikarenakan model ini dapat memberikan hasil yang mudah dipahami dan mudah diinterpretasikan, selanjutnya kecepatan komputasi yang dimiliki regresi linear relatif cepat dalam memproses dataset yang besar dalam proyek yang kami kerjakan ini serta juga karena memiliki keakuratan yang akurat dan hasil yang memadai.\n",
    "</p>\n",
    "\n",
    "<p style=\"text-align: justify; font-size: 14px;\">\n",
    "    Setelah melakukan data cleaning dan data preprocessing, maka diperoleh data yang akan digunakan untuk pelatihan model selanjutnya. Terdapat 3 atribut yang akan digunakan untuk membuat model perkiraan harga, yaitu name cab, distance, surge_multiplier.\n",
    "</p>"
   ]
  },
  {
   "cell_type": "markdown",
   "metadata": {},
   "source": [
    "### Rumusan Masalah\n",
    "<p style=\"text-align: justify; font-size: 14px;\">\n",
    "    <ol style=\"text-align: justify; font-size: 14px;\">\n",
    "        <li>\n",
    "            Bagaimana Perbandingan Harga Uber dan Lyft?\n",
    "        <li>\n",
    "            Bagaimana Perbandingan Jumlah Pengguna Uber dan Lyft?\n",
    "        <li>\n",
    "            Bagaimana Perbandingan Tarif Perjalanan Uber dan Lyft?\n",
    "        <li>\n",
    "            Manakah tarif yang lebih murah antara Uber dan Lyft berdasarkan destinasi?\n",
    "    </ol>\n",
    "</p>"
   ]
  },
  {
   "cell_type": "markdown",
   "metadata": {},
   "source": [
    "### Dataset\n",
    "<p style=\"text-align: justify; font-size: 14px;\">\n",
    "    Dataset yang digunakan yaitu Uber vs Lyft Dataset New York, USA yang berisi record data perjalanan taksi online Uber dan Lyft di New York, USA. Dataset ini memiliki 57 atribut, antara lain : \n",
    "</p>\n",
    "<div style=\"text-align:center; font-size:14px\">\n",
    "<p> \n",
    "    Dataset : <a href=https://www.kaggle.com/brllrb/uber-and-lyft-dataset-boston-ma>Data Uber vs Lyft</a>\n",
    "</p>\n",
    "    <table style=\"border:none; margin: 0 auto; text-align:left;\">\n",
    "        <tr>\n",
    "            <td style=\"text-align:center\"><b>No.</b></td>\n",
    "            <td style=\"text-align:center\"><b>Variabel</b></td>\n",
    "            <td style=\"text-align:center\"><b>Keterangan</b></td>\n",
    "        </tr>\n",
    "        <tr>\n",
    "            <td style=\"text-align:center\">1. </td>\n",
    "            <td>Cab_type</td>\n",
    "            <td>Merek transportasi online (Uber, Lyft).</td>\n",
    "        </tr>\n",
    "        <tr>\n",
    "            <td style=\"text-align:center\">2. </td>\n",
    "            <td>Name</td>\n",
    "            <td>Jenis mobil yang dipilih (Lux, Lux Black XL, Lyft, Lyft XL, UberXL,  \n",
    "                <br> Taxi, Uberpool, Black SUV, WAV, Black, UberX, Lux Black, Shared).\n",
    "            </td>\n",
    "        </tr>\n",
    "        <tr>\n",
    "            <td style=\"text-align:center\">3. </td>\n",
    "            <td>Hour</td>\n",
    "            <td>Pukul berapa transportasi online dipesan (24 jam).</td>\n",
    "        </tr>\n",
    "        <tr>\n",
    "            <td style=\"text-align:center\">4. </td>\n",
    "            <td>Day</td>\n",
    "            <td>Tanggal berapa transportasi online dipesan.</td>\n",
    "        </tr>\n",
    "        <tr>\n",
    "            <td style=\"text-align:center\">5. </td>\n",
    "            <td>Month</td>\n",
    "            <td>Bulan apa saja transportasi online dipesan (bulan 11 dan 12).</td>\n",
    "        </tr>\n",
    "        <tr>\n",
    "            <td style=\"text-align:center\">6. </td>\n",
    "            <td>Source</td>\n",
    "            <td>Destinasi awal.</td>\n",
    "        </tr>\n",
    "        <tr>\n",
    "            <td style=\"text-align:center\">7. </td>\n",
    "            <td>Destination</td>\n",
    "            <td>Destinasi akhir.</td>\n",
    "        </tr>\n",
    "        <tr>\n",
    "            <td style=\"text-align:center\">8. </td>\n",
    "            <td>Price</td>\n",
    "            <td>Harga transportasi online (dollar US).</td>\n",
    "        </tr>\n",
    "        <tr>\n",
    "            <td style=\"text-align:center\">9. </td>\n",
    "            <td>Distance</td>\n",
    "            <td>Jarak yang ditempuh (km).</td>\n",
    "        </tr>\n",
    "        <tr>\n",
    "            <td style=\"text-align:center\">10. </td>\n",
    "            <td>Short_summary</td>\n",
    "            <td>Cuaca ketika transportasi online dipesan (Overcast, Mostly Cloudy, \n",
    "                <br>Partly Cloudy, Clear, Light Rain, Rain, Possible Drizzle, Foggy, Drizzle).</td>\n",
    "        </tr>\n",
    "        <tr>\n",
    "            <td style=\"text-align:center\">11. </td>\n",
    "            <td>Temperature</td>\n",
    "            <td>Suhu ketika transportasi online dipesan (Celcius).</td>\n",
    "        </tr>\n",
    "        <tr>\n",
    "            <td style=\"text-align:center\">12. </td>\n",
    "            <td>Visibility</td>\n",
    "            <td>Jarak penglihatan.</td>\n",
    "        </tr>\n",
    "        <tr>\n",
    "            <td style=\"text-align:center\">13. </td>\n",
    "            <td>Surge_multiplier</td>\n",
    "            <td>Kenaikan harga penawaran ketika terjadi lonjakan penumpang.</td>\n",
    "        </tr>\n",
    "    </table>\n",
    "</div>"
   ]
  },
  {
   "cell_type": "markdown",
   "metadata": {},
   "source": [
    "## Python Implementation"
   ]
  },
  {
   "cell_type": "markdown",
   "metadata": {},
   "source": [
    "### Import Libraries"
   ]
  },
  {
   "cell_type": "code",
   "execution_count": 1,
   "metadata": {},
   "outputs": [],
   "source": [
    "import numpy as np\n",
    "import pandas as pd\n",
    "import scipy.stats as stats\n",
    "\n",
    "# Visualization\n",
    "%matplotlib inline\n",
    "import matplotlib as mpl\n",
    "import matplotlib.pyplot as plt\n",
    "import seaborn as sns\n",
    "\n",
    "# Modelling\n",
    "from sklearn.preprocessing import LabelEncoder\n",
    "from sklearn.pipeline import Pipeline\n",
    "from sklearn.preprocessing import StandardScaler\n",
    "from sklearn.model_selection import train_test_split\n",
    "from sklearn.linear_model import LinearRegression\n",
    "from sklearn.metrics import mean_squared_error, confusion_matrix, accuracy_score, mean_absolute_percentage_error, r2_score, mean_absolute_error\n",
    "from sklearn.tree import DecisionTreeRegressor\n",
    "\n",
    "\n",
    "# Ignore warning\n",
    "import warnings\n",
    "warnings.simplefilter(action=\"ignore\",category=FutureWarning)"
   ]
  },
  {
   "cell_type": "markdown",
   "metadata": {},
   "source": [
    "### Data Loading"
   ]
  },
  {
   "cell_type": "code",
   "execution_count": 2,
   "metadata": {},
   "outputs": [
    {
     "data": {
      "text/html": [
       "<div>\n",
       "<style scoped>\n",
       "    .dataframe tbody tr th:only-of-type {\n",
       "        vertical-align: middle;\n",
       "    }\n",
       "\n",
       "    .dataframe tbody tr th {\n",
       "        vertical-align: top;\n",
       "    }\n",
       "\n",
       "    .dataframe thead th {\n",
       "        text-align: right;\n",
       "    }\n",
       "</style>\n",
       "<table border=\"1\" class=\"dataframe\">\n",
       "  <thead>\n",
       "    <tr style=\"text-align: right;\">\n",
       "      <th></th>\n",
       "      <th>id</th>\n",
       "      <th>timestamp</th>\n",
       "      <th>hour</th>\n",
       "      <th>day</th>\n",
       "      <th>month</th>\n",
       "      <th>datetime</th>\n",
       "      <th>timezone</th>\n",
       "      <th>source</th>\n",
       "      <th>destination</th>\n",
       "      <th>cab_type</th>\n",
       "      <th>...</th>\n",
       "      <th>precipIntensityMax</th>\n",
       "      <th>uvIndexTime</th>\n",
       "      <th>temperatureMin</th>\n",
       "      <th>temperatureMinTime</th>\n",
       "      <th>temperatureMax</th>\n",
       "      <th>temperatureMaxTime</th>\n",
       "      <th>apparentTemperatureMin</th>\n",
       "      <th>apparentTemperatureMinTime</th>\n",
       "      <th>apparentTemperatureMax</th>\n",
       "      <th>apparentTemperatureMaxTime</th>\n",
       "    </tr>\n",
       "  </thead>\n",
       "  <tbody>\n",
       "    <tr>\n",
       "      <th>0</th>\n",
       "      <td>424553bb-7174-41ea-aeb4-fe06d4f4b9d7</td>\n",
       "      <td>1.544953e+09</td>\n",
       "      <td>9</td>\n",
       "      <td>16</td>\n",
       "      <td>12</td>\n",
       "      <td>2018-12-16 09:30:07</td>\n",
       "      <td>America/New_York</td>\n",
       "      <td>Haymarket Square</td>\n",
       "      <td>North Station</td>\n",
       "      <td>Lyft</td>\n",
       "      <td>...</td>\n",
       "      <td>0.1276</td>\n",
       "      <td>1544979600</td>\n",
       "      <td>39.89</td>\n",
       "      <td>1545012000</td>\n",
       "      <td>43.68</td>\n",
       "      <td>1544968800</td>\n",
       "      <td>33.73</td>\n",
       "      <td>1545012000</td>\n",
       "      <td>38.07</td>\n",
       "      <td>1544958000</td>\n",
       "    </tr>\n",
       "    <tr>\n",
       "      <th>1</th>\n",
       "      <td>4bd23055-6827-41c6-b23b-3c491f24e74d</td>\n",
       "      <td>1.543284e+09</td>\n",
       "      <td>2</td>\n",
       "      <td>27</td>\n",
       "      <td>11</td>\n",
       "      <td>2018-11-27 02:00:23</td>\n",
       "      <td>America/New_York</td>\n",
       "      <td>Haymarket Square</td>\n",
       "      <td>North Station</td>\n",
       "      <td>Lyft</td>\n",
       "      <td>...</td>\n",
       "      <td>0.1300</td>\n",
       "      <td>1543251600</td>\n",
       "      <td>40.49</td>\n",
       "      <td>1543233600</td>\n",
       "      <td>47.30</td>\n",
       "      <td>1543251600</td>\n",
       "      <td>36.20</td>\n",
       "      <td>1543291200</td>\n",
       "      <td>43.92</td>\n",
       "      <td>1543251600</td>\n",
       "    </tr>\n",
       "    <tr>\n",
       "      <th>2</th>\n",
       "      <td>981a3613-77af-4620-a42a-0c0866077d1e</td>\n",
       "      <td>1.543367e+09</td>\n",
       "      <td>1</td>\n",
       "      <td>28</td>\n",
       "      <td>11</td>\n",
       "      <td>2018-11-28 01:00:22</td>\n",
       "      <td>America/New_York</td>\n",
       "      <td>Haymarket Square</td>\n",
       "      <td>North Station</td>\n",
       "      <td>Lyft</td>\n",
       "      <td>...</td>\n",
       "      <td>0.1064</td>\n",
       "      <td>1543338000</td>\n",
       "      <td>35.36</td>\n",
       "      <td>1543377600</td>\n",
       "      <td>47.55</td>\n",
       "      <td>1543320000</td>\n",
       "      <td>31.04</td>\n",
       "      <td>1543377600</td>\n",
       "      <td>44.12</td>\n",
       "      <td>1543320000</td>\n",
       "    </tr>\n",
       "    <tr>\n",
       "      <th>3</th>\n",
       "      <td>c2d88af2-d278-4bfd-a8d0-29ca77cc5512</td>\n",
       "      <td>1.543554e+09</td>\n",
       "      <td>4</td>\n",
       "      <td>30</td>\n",
       "      <td>11</td>\n",
       "      <td>2018-11-30 04:53:02</td>\n",
       "      <td>America/New_York</td>\n",
       "      <td>Haymarket Square</td>\n",
       "      <td>North Station</td>\n",
       "      <td>Lyft</td>\n",
       "      <td>...</td>\n",
       "      <td>0.0000</td>\n",
       "      <td>1543507200</td>\n",
       "      <td>34.67</td>\n",
       "      <td>1543550400</td>\n",
       "      <td>45.03</td>\n",
       "      <td>1543510800</td>\n",
       "      <td>30.30</td>\n",
       "      <td>1543550400</td>\n",
       "      <td>38.53</td>\n",
       "      <td>1543510800</td>\n",
       "    </tr>\n",
       "    <tr>\n",
       "      <th>4</th>\n",
       "      <td>e0126e1f-8ca9-4f2e-82b3-50505a09db9a</td>\n",
       "      <td>1.543463e+09</td>\n",
       "      <td>3</td>\n",
       "      <td>29</td>\n",
       "      <td>11</td>\n",
       "      <td>2018-11-29 03:49:20</td>\n",
       "      <td>America/New_York</td>\n",
       "      <td>Haymarket Square</td>\n",
       "      <td>North Station</td>\n",
       "      <td>Lyft</td>\n",
       "      <td>...</td>\n",
       "      <td>0.0001</td>\n",
       "      <td>1543420800</td>\n",
       "      <td>33.10</td>\n",
       "      <td>1543402800</td>\n",
       "      <td>42.18</td>\n",
       "      <td>1543420800</td>\n",
       "      <td>29.11</td>\n",
       "      <td>1543392000</td>\n",
       "      <td>35.75</td>\n",
       "      <td>1543420800</td>\n",
       "    </tr>\n",
       "  </tbody>\n",
       "</table>\n",
       "<p>5 rows × 57 columns</p>\n",
       "</div>"
      ],
      "text/plain": [
       "                                     id     timestamp  hour  day  month  \\\n",
       "0  424553bb-7174-41ea-aeb4-fe06d4f4b9d7  1.544953e+09     9   16     12   \n",
       "1  4bd23055-6827-41c6-b23b-3c491f24e74d  1.543284e+09     2   27     11   \n",
       "2  981a3613-77af-4620-a42a-0c0866077d1e  1.543367e+09     1   28     11   \n",
       "3  c2d88af2-d278-4bfd-a8d0-29ca77cc5512  1.543554e+09     4   30     11   \n",
       "4  e0126e1f-8ca9-4f2e-82b3-50505a09db9a  1.543463e+09     3   29     11   \n",
       "\n",
       "              datetime          timezone            source    destination  \\\n",
       "0  2018-12-16 09:30:07  America/New_York  Haymarket Square  North Station   \n",
       "1  2018-11-27 02:00:23  America/New_York  Haymarket Square  North Station   \n",
       "2  2018-11-28 01:00:22  America/New_York  Haymarket Square  North Station   \n",
       "3  2018-11-30 04:53:02  America/New_York  Haymarket Square  North Station   \n",
       "4  2018-11-29 03:49:20  America/New_York  Haymarket Square  North Station   \n",
       "\n",
       "  cab_type  ... precipIntensityMax uvIndexTime  temperatureMin  \\\n",
       "0     Lyft  ...             0.1276  1544979600           39.89   \n",
       "1     Lyft  ...             0.1300  1543251600           40.49   \n",
       "2     Lyft  ...             0.1064  1543338000           35.36   \n",
       "3     Lyft  ...             0.0000  1543507200           34.67   \n",
       "4     Lyft  ...             0.0001  1543420800           33.10   \n",
       "\n",
       "   temperatureMinTime  temperatureMax  temperatureMaxTime  \\\n",
       "0          1545012000           43.68          1544968800   \n",
       "1          1543233600           47.30          1543251600   \n",
       "2          1543377600           47.55          1543320000   \n",
       "3          1543550400           45.03          1543510800   \n",
       "4          1543402800           42.18          1543420800   \n",
       "\n",
       "   apparentTemperatureMin  apparentTemperatureMinTime  apparentTemperatureMax  \\\n",
       "0                   33.73                  1545012000                   38.07   \n",
       "1                   36.20                  1543291200                   43.92   \n",
       "2                   31.04                  1543377600                   44.12   \n",
       "3                   30.30                  1543550400                   38.53   \n",
       "4                   29.11                  1543392000                   35.75   \n",
       "\n",
       "  apparentTemperatureMaxTime  \n",
       "0                 1544958000  \n",
       "1                 1543251600  \n",
       "2                 1543320000  \n",
       "3                 1543510800  \n",
       "4                 1543420800  \n",
       "\n",
       "[5 rows x 57 columns]"
      ]
     },
     "execution_count": 2,
     "metadata": {},
     "output_type": "execute_result"
    }
   ],
   "source": [
    "df = pd.read_csv('D:/- COOLYEAH -/SEMESTER V - Hacktiv8/rideshare_kaggle.csv')\n",
    "df.head()"
   ]
  },
  {
   "cell_type": "code",
   "execution_count": 3,
   "metadata": {},
   "outputs": [
    {
     "data": {
      "text/plain": [
       "(693071, 57)"
      ]
     },
     "execution_count": 3,
     "metadata": {},
     "output_type": "execute_result"
    }
   ],
   "source": [
    "# Mengecek dimensi dataset\n",
    "df.shape"
   ]
  },
  {
   "cell_type": "markdown",
   "metadata": {},
   "source": [
    "### Data Cleaning"
   ]
  },
  {
   "cell_type": "code",
   "execution_count": 4,
   "metadata": {},
   "outputs": [
    {
     "data": {
      "text/plain": [
       "Index(['id', 'timestamp', 'hour', 'day', 'month', 'datetime', 'timezone',\n",
       "       'source', 'destination', 'cab_type', 'product_id', 'name', 'price',\n",
       "       'distance', 'surge_multiplier', 'latitude', 'longitude', 'temperature',\n",
       "       'apparentTemperature', 'short_summary', 'long_summary',\n",
       "       'precipIntensity', 'precipProbability', 'humidity', 'windSpeed',\n",
       "       'windGust', 'windGustTime', 'visibility', 'temperatureHigh',\n",
       "       'temperatureHighTime', 'temperatureLow', 'temperatureLowTime',\n",
       "       'apparentTemperatureHigh', 'apparentTemperatureHighTime',\n",
       "       'apparentTemperatureLow', 'apparentTemperatureLowTime', 'icon',\n",
       "       'dewPoint', 'pressure', 'windBearing', 'cloudCover', 'uvIndex',\n",
       "       'visibility.1', 'ozone', 'sunriseTime', 'sunsetTime', 'moonPhase',\n",
       "       'precipIntensityMax', 'uvIndexTime', 'temperatureMin',\n",
       "       'temperatureMinTime', 'temperatureMax', 'temperatureMaxTime',\n",
       "       'apparentTemperatureMin', 'apparentTemperatureMinTime',\n",
       "       'apparentTemperatureMax', 'apparentTemperatureMaxTime'],\n",
       "      dtype='object')"
      ]
     },
     "execution_count": 4,
     "metadata": {},
     "output_type": "execute_result"
    }
   ],
   "source": [
    "df.columns"
   ]
  },
  {
   "cell_type": "code",
   "execution_count": 5,
   "metadata": {},
   "outputs": [
    {
     "data": {
      "text/html": [
       "<div>\n",
       "<style scoped>\n",
       "    .dataframe tbody tr th:only-of-type {\n",
       "        vertical-align: middle;\n",
       "    }\n",
       "\n",
       "    .dataframe tbody tr th {\n",
       "        vertical-align: top;\n",
       "    }\n",
       "\n",
       "    .dataframe thead th {\n",
       "        text-align: right;\n",
       "    }\n",
       "</style>\n",
       "<table border=\"1\" class=\"dataframe\">\n",
       "  <thead>\n",
       "    <tr style=\"text-align: right;\">\n",
       "      <th></th>\n",
       "      <th>timestamp</th>\n",
       "      <th>cab_type</th>\n",
       "      <th>name</th>\n",
       "      <th>hour</th>\n",
       "      <th>day</th>\n",
       "      <th>month</th>\n",
       "      <th>source</th>\n",
       "      <th>destination</th>\n",
       "      <th>distance</th>\n",
       "      <th>price</th>\n",
       "    </tr>\n",
       "  </thead>\n",
       "  <tbody>\n",
       "    <tr>\n",
       "      <th>0</th>\n",
       "      <td>1.544953e+09</td>\n",
       "      <td>Lyft</td>\n",
       "      <td>Shared</td>\n",
       "      <td>9</td>\n",
       "      <td>16</td>\n",
       "      <td>12</td>\n",
       "      <td>Haymarket Square</td>\n",
       "      <td>North Station</td>\n",
       "      <td>0.44</td>\n",
       "      <td>5.0</td>\n",
       "    </tr>\n",
       "    <tr>\n",
       "      <th>1</th>\n",
       "      <td>1.543284e+09</td>\n",
       "      <td>Lyft</td>\n",
       "      <td>Lux</td>\n",
       "      <td>2</td>\n",
       "      <td>27</td>\n",
       "      <td>11</td>\n",
       "      <td>Haymarket Square</td>\n",
       "      <td>North Station</td>\n",
       "      <td>0.44</td>\n",
       "      <td>11.0</td>\n",
       "    </tr>\n",
       "    <tr>\n",
       "      <th>2</th>\n",
       "      <td>1.543367e+09</td>\n",
       "      <td>Lyft</td>\n",
       "      <td>Lyft</td>\n",
       "      <td>1</td>\n",
       "      <td>28</td>\n",
       "      <td>11</td>\n",
       "      <td>Haymarket Square</td>\n",
       "      <td>North Station</td>\n",
       "      <td>0.44</td>\n",
       "      <td>7.0</td>\n",
       "    </tr>\n",
       "    <tr>\n",
       "      <th>3</th>\n",
       "      <td>1.543554e+09</td>\n",
       "      <td>Lyft</td>\n",
       "      <td>Lux Black XL</td>\n",
       "      <td>4</td>\n",
       "      <td>30</td>\n",
       "      <td>11</td>\n",
       "      <td>Haymarket Square</td>\n",
       "      <td>North Station</td>\n",
       "      <td>0.44</td>\n",
       "      <td>26.0</td>\n",
       "    </tr>\n",
       "    <tr>\n",
       "      <th>4</th>\n",
       "      <td>1.543463e+09</td>\n",
       "      <td>Lyft</td>\n",
       "      <td>Lyft XL</td>\n",
       "      <td>3</td>\n",
       "      <td>29</td>\n",
       "      <td>11</td>\n",
       "      <td>Haymarket Square</td>\n",
       "      <td>North Station</td>\n",
       "      <td>0.44</td>\n",
       "      <td>9.0</td>\n",
       "    </tr>\n",
       "  </tbody>\n",
       "</table>\n",
       "</div>"
      ],
      "text/plain": [
       "      timestamp cab_type          name  hour  day  month            source  \\\n",
       "0  1.544953e+09     Lyft        Shared     9   16     12  Haymarket Square   \n",
       "1  1.543284e+09     Lyft           Lux     2   27     11  Haymarket Square   \n",
       "2  1.543367e+09     Lyft          Lyft     1   28     11  Haymarket Square   \n",
       "3  1.543554e+09     Lyft  Lux Black XL     4   30     11  Haymarket Square   \n",
       "4  1.543463e+09     Lyft       Lyft XL     3   29     11  Haymarket Square   \n",
       "\n",
       "     destination  distance  price  \n",
       "0  North Station      0.44    5.0  \n",
       "1  North Station      0.44   11.0  \n",
       "2  North Station      0.44    7.0  \n",
       "3  North Station      0.44   26.0  \n",
       "4  North Station      0.44    9.0  "
      ]
     },
     "execution_count": 5,
     "metadata": {},
     "output_type": "execute_result"
    }
   ],
   "source": [
    "new_column = ['timestamp', \"cab_type\",\"name\",\"hour\",\"day\",\"month\",\n",
    "              \"source\", \"destination\",\"distance\", \"price\"]\n",
    "df = df[new_column]\n",
    "df.head()"
   ]
  },
  {
   "cell_type": "code",
   "execution_count": 6,
   "metadata": {},
   "outputs": [
    {
     "data": {
      "text/plain": [
       "(693071, 10)"
      ]
     },
     "execution_count": 6,
     "metadata": {},
     "output_type": "execute_result"
    }
   ],
   "source": [
    "# Mengecek dimensi dataset\n",
    "df.shape"
   ]
  },
  {
   "cell_type": "code",
   "execution_count": 7,
   "metadata": {},
   "outputs": [
    {
     "name": "stdout",
     "output_type": "stream",
     "text": [
      "<class 'pandas.core.frame.DataFrame'>\n",
      "RangeIndex: 693071 entries, 0 to 693070\n",
      "Data columns (total 10 columns):\n",
      " #   Column       Non-Null Count   Dtype  \n",
      "---  ------       --------------   -----  \n",
      " 0   timestamp    693071 non-null  float64\n",
      " 1   cab_type     693071 non-null  object \n",
      " 2   name         693071 non-null  object \n",
      " 3   hour         693071 non-null  int64  \n",
      " 4   day          693071 non-null  int64  \n",
      " 5   month        693071 non-null  int64  \n",
      " 6   source       693071 non-null  object \n",
      " 7   destination  693071 non-null  object \n",
      " 8   distance     693071 non-null  float64\n",
      " 9   price        637976 non-null  float64\n",
      "dtypes: float64(3), int64(3), object(4)\n",
      "memory usage: 52.9+ MB\n"
     ]
    }
   ],
   "source": [
    "# Mengecek Info dataset\n",
    "df.info()"
   ]
  },
  {
   "cell_type": "code",
   "execution_count": 8,
   "metadata": {},
   "outputs": [
    {
     "data": {
      "text/plain": [
       "price    55095\n",
       "dtype: int64"
      ]
     },
     "execution_count": 8,
     "metadata": {},
     "output_type": "execute_result"
    }
   ],
   "source": [
    "# Mengecek jumlah null pada kolom\n",
    "df.isna().sum()[df.isna().sum() > 0]"
   ]
  },
  {
   "cell_type": "markdown",
   "metadata": {},
   "source": [
    "Berdasarkan data, diketahui bahwa terdapat banyak nilai null pada kolom 'price' sebesar 55095 dan fitur 'price' merupakan variable yang bergantung pada projek yang akan dibuat, jika memaksa mengisi nilai null pada fitur price akan mengakibatkan lebih banyak nilai yang error dan akurasi yang kurang. Jadi akan dihapus semua record dimana kolom price memiliki nilai null."
   ]
  },
  {
   "cell_type": "code",
   "execution_count": 9,
   "metadata": {},
   "outputs": [],
   "source": [
    "# Menghapus null pada kolom 'price'\n",
    "df = df.dropna(subset=['price']).reset_index()"
   ]
  },
  {
   "cell_type": "code",
   "execution_count": 10,
   "metadata": {},
   "outputs": [
    {
     "data": {
      "text/plain": [
       "index          0\n",
       "timestamp      0\n",
       "cab_type       0\n",
       "name           0\n",
       "hour           0\n",
       "day            0\n",
       "month          0\n",
       "source         0\n",
       "destination    0\n",
       "distance       0\n",
       "price          0\n",
       "dtype: int64"
      ]
     },
     "execution_count": 10,
     "metadata": {},
     "output_type": "execute_result"
    }
   ],
   "source": [
    "# Mengecek Nilai Null\n",
    "df.isnull().sum()"
   ]
  },
  {
   "cell_type": "code",
   "execution_count": 11,
   "metadata": {},
   "outputs": [
    {
     "data": {
      "text/plain": [
       "0"
      ]
     },
     "execution_count": 11,
     "metadata": {},
     "output_type": "execute_result"
    }
   ],
   "source": [
    "# Mengecek jumlah file duplikat\n",
    "df.duplicated().sum()"
   ]
  },
  {
   "cell_type": "code",
   "execution_count": 12,
   "metadata": {},
   "outputs": [
    {
     "name": "stdout",
     "output_type": "stream",
     "text": [
      "UNIQUE VALUES FOR  index\n",
      "====================\n",
      "[     0      1      2 ... 693067 693069 693070]\n",
      "====================\n",
      "UNIQUE VALUES FOR  timestamp\n",
      "====================\n",
      "[1.54495261e+09 1.54328402e+09 1.54336682e+09 ... 1.54473751e+09\n",
      " 1.54502280e+09 1.54372728e+09]\n",
      "====================\n",
      "UNIQUE VALUES FOR  cab_type\n",
      "====================\n",
      "['Lyft' 'Uber']\n",
      "====================\n",
      "UNIQUE VALUES FOR  name\n",
      "====================\n",
      "['Shared' 'Lux' 'Lyft' 'Lux Black XL' 'Lyft XL' 'Lux Black' 'UberXL'\n",
      " 'Black' 'UberX' 'WAV' 'Black SUV' 'UberPool']\n",
      "====================\n",
      "UNIQUE VALUES FOR  hour\n",
      "====================\n",
      "[ 9  2  1  4  3 18  5 19  6 10 16 22 23  0 11  7 20 13 14  8 12 21 17 15]\n",
      "====================\n",
      "UNIQUE VALUES FOR  day\n",
      "====================\n",
      "[16 27 28 30 29 17 26  2  3 13 14 18  1 15  4 10  9]\n",
      "====================\n",
      "UNIQUE VALUES FOR  month\n",
      "====================\n",
      "[12 11]\n",
      "====================\n",
      "UNIQUE VALUES FOR  source\n",
      "====================\n",
      "['Haymarket Square' 'Back Bay' 'North End' 'North Station' 'Beacon Hill'\n",
      " 'Boston University' 'Fenway' 'South Station' 'Theatre District'\n",
      " 'West End' 'Financial District' 'Northeastern University']\n",
      "====================\n",
      "UNIQUE VALUES FOR  destination\n",
      "====================\n",
      "['North Station' 'Northeastern University' 'West End' 'Haymarket Square'\n",
      " 'South Station' 'Fenway' 'Theatre District' 'Beacon Hill' 'Back Bay'\n",
      " 'North End' 'Financial District' 'Boston University']\n",
      "====================\n",
      "UNIQUE VALUES FOR  distance\n",
      "====================\n",
      "[0.44 1.08 1.11 0.72 2.48 3.24 2.94 1.76 0.71 1.23 1.16 2.67 3.39 2.82\n",
      " 2.49 3.07 1.57 3.2  3.61 3.05 1.75 2.36 2.32 1.02 1.17 4.43 1.4  1.01\n",
      " 2.84 1.81 1.3  2.44 3.04 2.59 3.25 2.66 3.26 2.39 3.28 2.81 3.18 2.63\n",
      " 3.14 1.79 2.16 1.39 1.97 2.92 2.14 0.91 2.58 3.23 3.02 0.64 2.38 0.8\n",
      " 2.07 2.61 3.45 1.35 2.8  1.03 3.35 2.93 1.07 3.17 1.2  7.46 1.58 1.71\n",
      " 1.21 1.61 3.3  4.39 0.55 4.42 1.45 0.61 0.49 0.39 3.8  2.46 2.34 2.56\n",
      " 4.23 1.56 2.35 3.37 1.52 2.05 2.15 1.26 1.5  4.76 1.34 3.41 1.33 2.19\n",
      " 1.04 1.22 1.09 0.54 2.09 3.68 1.66 1.92 2.33 2.25 2.88 3.42 0.63 1.41\n",
      " 4.51 0.56 3.47 4.09 2.73 3.19 0.65 2.78 1.   2.62 2.77 2.47 1.43 3.1\n",
      " 1.89 2.3  4.31 1.06 1.64 1.86 4.1  1.74 2.31 2.83 3.48 1.78 4.44 0.52\n",
      " 0.92 3.08 0.43 5.33 4.5  0.46 2.91 1.14 3.22 1.69 0.81 1.36 1.73 4.61\n",
      " 2.68 2.03 4.73 2.27 1.25 3.43 2.72 3.15 0.59 0.53 3.44 2.17 2.96 0.76\n",
      " 3.79 2.43 2.5  4.55 2.12 2.   5.32 0.42 1.47 2.86 3.12 2.85 1.49 4.35\n",
      " 0.3  1.59 1.46 3.06 5.56 2.37 2.41 1.37 3.16 0.73 3.03 4.48 1.7  2.29\n",
      " 2.79 0.74 2.24 7.34 4.3  1.19 1.55 0.62 2.4  4.54 2.54 0.99 2.74 2.42\n",
      " 3.52 3.53 2.98 1.1  0.88 2.75 4.59 1.8  1.72 1.05 1.91 4.69 1.28 1.54\n",
      " 2.9  2.13 3.21 0.86 2.1  2.57 3.5  2.45 1.38 1.53 1.44 1.42 2.99 0.57\n",
      " 2.04 3.01 0.68 3.59 2.53 4.32 4.15 2.01 2.21 1.15 5.4  1.12 1.24 5.41\n",
      " 4.57 3.55 2.89 2.28 3.75 2.7  1.9  2.65 3.31 2.87 5.38 4.68 0.5  3.36\n",
      " 0.48 2.51 0.79 0.94 4.46 2.97 4.13 5.35 4.72 3.32 3.29 5.31 2.22 3.11\n",
      " 1.93 1.99 1.94 0.98 1.87 1.65 0.75 3.46 4.4  4.53 2.2  0.95 1.51 6.26\n",
      " 2.08 0.84 2.11 1.27 3.96 1.13 0.9  2.06 1.32 1.98 1.67 0.58 1.31 4.74\n",
      " 2.02 0.67 4.17 4.01 1.77 0.78 4.47 0.45 4.56 7.2  1.88 0.66 4.58 3.\n",
      " 0.97 1.85 3.49 1.96 1.48 0.77 2.26 0.89 5.34 4.94 1.63 2.18 0.6  3.13\n",
      " 3.27 2.23 4.45 2.52 4.33 2.69 2.55 2.95 3.98 4.19 5.28 5.46 4.   4.52\n",
      " 1.82 5.44 3.99 0.02 1.95 1.18 1.68 3.4  5.7  1.84 3.09 4.2  4.8  3.58\n",
      " 5.2  3.66 3.7  0.87 4.49 3.51 5.21 2.6  0.4  5.14 4.77 4.11 0.7  4.37\n",
      " 3.71 4.6  4.41 4.12 3.77 4.25 3.91 4.14 0.03 2.76 5.42 4.08 4.78 4.75\n",
      " 4.26 0.12 4.36 4.18 0.82 0.69 3.33 4.16 2.71 1.62 0.47 4.34 6.97 0.93\n",
      " 3.9  3.89 3.95 5.23 4.22 3.54 3.97 5.45 2.64 4.03 0.51 4.96 1.83 4.93\n",
      " 6.83 3.64 4.38 6.27 4.62 4.66 3.69 6.91 5.39 7.19 3.76 5.3  0.85 3.63\n",
      " 3.34 5.29 5.36 3.72 3.65 4.7  1.29 7.04 3.93 4.21 3.78 4.29 5.27 4.67\n",
      " 0.83 5.22 3.74 4.28 5.13 4.86 4.65 4.06 5.24 4.79 5.37 4.98 3.67 4.64\n",
      " 5.25 5.15 4.05 0.96 3.85 5.69 4.24 3.82 7.24 3.84 4.27 6.33 4.95 3.57\n",
      " 3.83 0.04 5.1  6.03 4.82 5.09 5.04 5.12 4.97 3.73 3.38 0.35 5.43 1.6\n",
      " 7.5  0.38 4.81 5.17 5.11 5.16 7.18 7.25 4.63 3.88 4.02 5.02 5.26 4.71\n",
      " 4.91 4.9  4.04 4.07 7.45 3.94 3.56 4.84 3.62 0.29 0.17 0.27 3.81 7.38\n",
      " 3.87 5.18 4.83 3.6  3.86 5.19 6.09 7.62 3.92 6.04 6.   6.13 5.47 5.05\n",
      " 6.14 5.86 5.66 6.12 4.89 4.85 5.01 5.08 0.41 5.95 5.   5.06 7.36 5.03\n",
      " 4.87 4.99 7.86]\n",
      "====================\n",
      "UNIQUE VALUES FOR  price\n",
      "====================\n",
      "[ 5.   11.    7.   26.    9.   16.5  10.5   3.   27.5  13.5  12.   16.\n",
      "  7.5   5.5   3.5   8.5  15.   20.5  19.5  29.5   9.5  22.   13.   17.\n",
      " 10.   34.   18.5  36.   22.5  32.5  25.   27.   35.    8.   23.5  14.\n",
      " 26.5  38.5  23.   30.5  17.5  30.   36.5  12.5  33.5  21.5  38.   18.\n",
      " 33.   32.    6.5  11.5  31.5  28.5  24.   29.   31.   42.5  41.   19.\n",
      " 52.5  67.5  15.5  21.   45.5  28.   37.5  14.5  47.5   4.5  40.5  55.\n",
      " 42.   46.5  50.5  24.5  41.5  56.   25.5  39.   57.5  20.   39.5   6.\n",
      " 35.5  48.5  37.   45.   44.   34.5   2.5  46.   48.   47.   54.   52.\n",
      " 62.   43.   43.5  80.   65.   51.5  40.   49.5  58.   75.   62.5  92.\n",
      " 87.   64.5  87.5  73.5  44.5  80.5  89.   53.   81.5  60.5  49.   53.5\n",
      " 51.   55.5  37.85 59.   18.35 54.5  76.   57.   89.5  68.5  58.5  63.\n",
      " 61.5  68.   28.35 10.6   7.98 59.5  56.5   8.35 11.6  64.   67.    9.35\n",
      " 97.5  45.35 19.35]\n",
      "====================\n"
     ]
    }
   ],
   "source": [
    "for col in df.columns:\n",
    "    print(\"UNIQUE VALUES FOR \",col)\n",
    "    print(\"=\"*20)\n",
    "    print(df[col].unique())\n",
    "    print(\"=\"*20)"
   ]
  },
  {
   "cell_type": "markdown",
   "metadata": {},
   "source": [
    "### Data Exploration"
   ]
  },
  {
   "cell_type": "markdown",
   "metadata": {},
   "source": [
    "#### *Measure of Central Tendency*"
   ]
  },
  {
   "cell_type": "code",
   "execution_count": 13,
   "metadata": {},
   "outputs": [
    {
     "name": "stdout",
     "output_type": "stream",
     "text": [
      "Mean   : 16.55\n",
      "Median : 13.5\n",
      "Mode   : 0    Uber\n",
      "Name: cab_type, dtype: object\n"
     ]
    }
   ],
   "source": [
    "mean_price = df['price'].mean()\n",
    "median_price = df['price'].median()\n",
    "mode_price = df['cab_type'].mode()\n",
    "\n",
    "print(\"Mean   : %.2f\" % mean_price)\n",
    "print(\"Median :\", median_price)\n",
    "print(\"Mode   :\", mode_price)"
   ]
  },
  {
   "cell_type": "markdown",
   "metadata": {},
   "source": [
    "<b>Insight : </b> \n",
    "<br>Berdasarkan data, diperoleh : \n",
    "<li> Rata-rata harga yang ditawarkan untuk pemesanan Uber dan Lytf adalah 16. 55\n",
    "<li> Jenis taksi yang lebih sering digunakan adalah Uber"
   ]
  },
  {
   "cell_type": "code",
   "execution_count": 14,
   "metadata": {},
   "outputs": [
    {
     "name": "stdout",
     "output_type": "stream",
     "text": [
      "Standar Deviasi Harga Taksi       : 9.32 USD\n",
      "Standar Deviasi Durasi Perjalanan : 689202.79 detik\n"
     ]
    }
   ],
   "source": [
    "std_price = df['price'].std(ddof=1)\n",
    "std_timestamp = df['timestamp'].std(ddof=1)\n",
    "\n",
    "print(\"Standar Deviasi Harga Taksi       : %.2f\" % std_price, \"USD\")\n",
    "print(\"Standar Deviasi Durasi Perjalanan : %.2f\" % std_timestamp, \"detik\")"
   ]
  },
  {
   "cell_type": "markdown",
   "metadata": {},
   "source": [
    "#### *Measure of Correlation*"
   ]
  },
  {
   "cell_type": "markdown",
   "metadata": {},
   "source": [
    "1. Korelasi Data"
   ]
  },
  {
   "cell_type": "code",
   "execution_count": 15,
   "metadata": {},
   "outputs": [
    {
     "data": {
      "text/plain": [
       "<Axes: >"
      ]
     },
     "execution_count": 15,
     "metadata": {},
     "output_type": "execute_result"
    },
    {
     "data": {
      "image/png": "[encoded data removed]",
      "text/plain": [
       "<Figure size 1400x1000 with 2 Axes>"
      ]
     },
     "metadata": {},
     "output_type": "display_data"
    }
   ],
   "source": [
    "# Mencari Korelasi antar Kolom\n",
    "numeric_col = df.select_dtypes(include=['number'])\n",
    "\n",
    "plt.figure(figsize=(14, 10))\n",
    "sns.heatmap(numeric_col.corr(), vmin=-1, vmax=1, annot=True, cmap=\"PuRd\")"
   ]
  },
  {
   "cell_type": "markdown",
   "metadata": {},
   "source": [
    "<b>Insight : </b> Berdasarkan output heatmap di atas, 'timestamp' dan 'month' memiliki korelasi yang cukup tinggi yaitu 0.77."
   ]
  },
  {
   "cell_type": "markdown",
   "metadata": {},
   "source": [
    "2. Perbandingan Harga Uber dan Lyft "
   ]
  },
  {
   "cell_type": "code",
   "execution_count": 16,
   "metadata": {},
   "outputs": [
    {
     "data": {
      "image/png": "[encoded data removed]",
      "text/plain": [
       "<Figure size 1000x400 with 1 Axes>"
      ]
     },
     "metadata": {},
     "output_type": "display_data"
    }
   ],
   "source": [
    "# Membandingkan Harga Uber dan Lyft\n",
    "sns.set(rc={'figure.figsize':(10,4)})\n",
    "sns.barplot(x='cab_type', y='price', data=df, palette='husl');"
   ]
  },
  {
   "cell_type": "code",
   "execution_count": 17,
   "metadata": {},
   "outputs": [
    {
     "data": {
      "text/plain": [
       "cab_type\n",
       "Lyft    17.351396\n",
       "Uber    15.795343\n",
       "Name: price, dtype: float64"
      ]
     },
     "execution_count": 17,
     "metadata": {},
     "output_type": "execute_result"
    }
   ],
   "source": [
    "# Membandingkan Rat-rata Harga Uber dan Lyft\n",
    "df.groupby('cab_type')['price'].mean()"
   ]
  },
  {
   "cell_type": "markdown",
   "metadata": {},
   "source": [
    "<b>Insight : </b> Berdasarkan data dari kedua output di atas diketahui layanan _Lyft_ memiliki rata-rata harga yang lebih tinggi dibandingkan dengan layanan Uber"
   ]
  },
  {
   "cell_type": "markdown",
   "metadata": {},
   "source": [
    "3. Perbandingan Jumlah Pengguna Uber dan Lyft"
   ]
  },
  {
   "cell_type": "code",
   "execution_count": 18,
   "metadata": {},
   "outputs": [
    {
     "data": {
      "image/png": "[encoded data removed]",
      "text/plain": [
       "<Figure size 1000x400 with 1 Axes>"
      ]
     },
     "metadata": {},
     "output_type": "display_data"
    }
   ],
   "source": [
    "# Membandingkan Pengguna Uber dan Lyft\n",
    "sns.countplot(x='cab_type', data=df, palette='Set3');"
   ]
  },
  {
   "cell_type": "markdown",
   "metadata": {},
   "source": [
    "<b>Insight : </b> Berdasarkan output diatas, jumlah pengguna layanan Uber lebih banyak daripada pengguna layanan Lyft. "
   ]
  },
  {
   "cell_type": "markdown",
   "metadata": {},
   "source": [
    "4. Perbandingan Tarif Perjalanan Uber dan Lyft"
   ]
  },
  {
   "cell_type": "code",
   "execution_count": 19,
   "metadata": {},
   "outputs": [
    {
     "data": {
      "text/plain": [
       "<Axes: xlabel='price', ylabel='name'>"
      ]
     },
     "execution_count": 19,
     "metadata": {},
     "output_type": "execute_result"
    },
    {
     "data": {
      "image/png": "[encoded data removed]",
      "text/plain": [
       "<Figure size 1000x500 with 1 Axes>"
      ]
     },
     "metadata": {},
     "output_type": "display_data"
    }
   ],
   "source": [
    "# Menampilkan tarif perjalanan Uber dan Lyft\n",
    "df.sort_values('cab_type', inplace=True)\n",
    "sns.set(rc={'figure.figsize':(10,5)})\n",
    "\n",
    "sns.barplot(y='name', x='price', data=df, hue='cab_type')"
   ]
  },
  {
   "cell_type": "code",
   "execution_count": 20,
   "metadata": {},
   "outputs": [
    {
     "data": {
      "text/plain": [
       "name\n",
       "Black           20.523786\n",
       "Black SUV       30.286763\n",
       "Lux             17.771240\n",
       "Lux Black       23.062468\n",
       "Lux Black XL    32.324086\n",
       "Lyft             9.610885\n",
       "Lyft XL         15.309363\n",
       "Shared           6.029893\n",
       "UberPool         8.752500\n",
       "UberX            9.765074\n",
       "UberXL          15.678144\n",
       "WAV              9.765019\n",
       "Name: price, dtype: float64"
      ]
     },
     "execution_count": 20,
     "metadata": {},
     "output_type": "execute_result"
    }
   ],
   "source": [
    "# Menghitung rata-rata tarif\n",
    "df.groupby('name')['price'].mean()"
   ]
  },
  {
   "cell_type": "markdown",
   "metadata": {},
   "source": [
    "<b> Insight : </b> Berdasarkan data diatas, Taksi Lyft yang rata-rata harganya paling mahal adalah Lux Black XL yaitu 32.324086. Sedangkan, yang paling murah adalah Shared yaitu 6.029893.\n",
    "\n",
    "Taksi Uber yang rata-rata harganya paling mahal adalah BlackSuv yaitu sebesar 30.286763. Sedangkan, yang paling murah adalah UberPool yaitu sebesar 8.752500."
   ]
  },
  {
   "cell_type": "markdown",
   "metadata": {},
   "source": [
    "5. Perbandingan Harga Layanan Termurah dan Termahal"
   ]
  },
  {
   "cell_type": "code",
   "execution_count": 21,
   "metadata": {},
   "outputs": [],
   "source": [
    "destination_price = df.pivot_table(values='price',\n",
    "                       index=['name'],\n",
    "                       columns=['source','destination'],\n",
    "                       aggfunc=np.mean,\n",
    "                       fill_value=0)\n",
    "destination_price.loc['mean'] = destination_price.mean()\n",
    "destination_price = destination_price.T\n",
    "destination_price = destination_price.reset_index(drop=False)\n",
    "destination_price.sort_values('mean', ascending=False, inplace=True)"
   ]
  },
  {
   "cell_type": "code",
   "execution_count": 22,
   "metadata": {},
   "outputs": [
    {
     "data": {
      "text/html": [
       "<div>\n",
       "<style scoped>\n",
       "    .dataframe tbody tr th:only-of-type {\n",
       "        vertical-align: middle;\n",
       "    }\n",
       "\n",
       "    .dataframe tbody tr th {\n",
       "        vertical-align: top;\n",
       "    }\n",
       "\n",
       "    .dataframe thead th {\n",
       "        text-align: right;\n",
       "    }\n",
       "</style>\n",
       "<table border=\"1\" class=\"dataframe\">\n",
       "  <thead>\n",
       "    <tr style=\"text-align: right;\">\n",
       "      <th>name</th>\n",
       "      <th>source</th>\n",
       "      <th>destination</th>\n",
       "      <th>Black</th>\n",
       "      <th>Black SUV</th>\n",
       "      <th>Lux</th>\n",
       "      <th>Lux Black</th>\n",
       "      <th>Lux Black XL</th>\n",
       "      <th>Lyft</th>\n",
       "      <th>Lyft XL</th>\n",
       "      <th>Shared</th>\n",
       "      <th>UberPool</th>\n",
       "      <th>UberX</th>\n",
       "      <th>UberXL</th>\n",
       "      <th>WAV</th>\n",
       "      <th>mean</th>\n",
       "    </tr>\n",
       "  </thead>\n",
       "  <tbody>\n",
       "    <tr>\n",
       "      <th>24</th>\n",
       "      <td>Financial District</td>\n",
       "      <td>Boston University</td>\n",
       "      <td>34.228923</td>\n",
       "      <td>43.572633</td>\n",
       "      <td>28.366481</td>\n",
       "      <td>37.477747</td>\n",
       "      <td>46.765647</td>\n",
       "      <td>14.248957</td>\n",
       "      <td>24.299722</td>\n",
       "      <td>9.324757</td>\n",
       "      <td>13.400130</td>\n",
       "      <td>14.824903</td>\n",
       "      <td>25.151751</td>\n",
       "      <td>14.824903</td>\n",
       "      <td>25.540546</td>\n",
       "    </tr>\n",
       "    <tr>\n",
       "      <th>14</th>\n",
       "      <td>Boston University</td>\n",
       "      <td>Financial District</td>\n",
       "      <td>30.576524</td>\n",
       "      <td>41.471466</td>\n",
       "      <td>27.541029</td>\n",
       "      <td>35.169680</td>\n",
       "      <td>45.013213</td>\n",
       "      <td>14.180111</td>\n",
       "      <td>23.776078</td>\n",
       "      <td>8.689152</td>\n",
       "      <td>10.752918</td>\n",
       "      <td>14.863813</td>\n",
       "      <td>23.495460</td>\n",
       "      <td>14.863813</td>\n",
       "      <td>24.199438</td>\n",
       "    </tr>\n",
       "    <tr>\n",
       "      <th>20</th>\n",
       "      <td>Fenway</td>\n",
       "      <td>Financial District</td>\n",
       "      <td>28.707843</td>\n",
       "      <td>39.377124</td>\n",
       "      <td>27.272538</td>\n",
       "      <td>34.741331</td>\n",
       "      <td>44.819695</td>\n",
       "      <td>14.200416</td>\n",
       "      <td>23.588766</td>\n",
       "      <td>8.412621</td>\n",
       "      <td>11.203268</td>\n",
       "      <td>13.479085</td>\n",
       "      <td>22.697386</td>\n",
       "      <td>13.479085</td>\n",
       "      <td>23.498263</td>\n",
       "    </tr>\n",
       "    <tr>\n",
       "      <th>25</th>\n",
       "      <td>Financial District</td>\n",
       "      <td>Fenway</td>\n",
       "      <td>30.640808</td>\n",
       "      <td>39.692960</td>\n",
       "      <td>26.540915</td>\n",
       "      <td>33.971567</td>\n",
       "      <td>43.753814</td>\n",
       "      <td>13.888350</td>\n",
       "      <td>23.061026</td>\n",
       "      <td>8.623440</td>\n",
       "      <td>11.225554</td>\n",
       "      <td>13.560626</td>\n",
       "      <td>22.902868</td>\n",
       "      <td>13.560626</td>\n",
       "      <td>23.451880</td>\n",
       "    </tr>\n",
       "    <tr>\n",
       "      <th>50</th>\n",
       "      <td>Northeastern University</td>\n",
       "      <td>Financial District</td>\n",
       "      <td>28.238158</td>\n",
       "      <td>38.856579</td>\n",
       "      <td>25.400556</td>\n",
       "      <td>32.973574</td>\n",
       "      <td>42.012517</td>\n",
       "      <td>13.739221</td>\n",
       "      <td>22.513908</td>\n",
       "      <td>8.190542</td>\n",
       "      <td>10.926316</td>\n",
       "      <td>13.248026</td>\n",
       "      <td>22.141447</td>\n",
       "      <td>13.248026</td>\n",
       "      <td>22.624073</td>\n",
       "    </tr>\n",
       "  </tbody>\n",
       "</table>\n",
       "</div>"
      ],
      "text/plain": [
       "name                   source         destination      Black  Black SUV  \\\n",
       "24         Financial District   Boston University  34.228923  43.572633   \n",
       "14          Boston University  Financial District  30.576524  41.471466   \n",
       "20                     Fenway  Financial District  28.707843  39.377124   \n",
       "25         Financial District              Fenway  30.640808  39.692960   \n",
       "50    Northeastern University  Financial District  28.238158  38.856579   \n",
       "\n",
       "name        Lux  Lux Black  Lux Black XL       Lyft    Lyft XL    Shared  \\\n",
       "24    28.366481  37.477747     46.765647  14.248957  24.299722  9.324757   \n",
       "14    27.541029  35.169680     45.013213  14.180111  23.776078  8.689152   \n",
       "20    27.272538  34.741331     44.819695  14.200416  23.588766  8.412621   \n",
       "25    26.540915  33.971567     43.753814  13.888350  23.061026  8.623440   \n",
       "50    25.400556  32.973574     42.012517  13.739221  22.513908  8.190542   \n",
       "\n",
       "name   UberPool      UberX     UberXL        WAV       mean  \n",
       "24    13.400130  14.824903  25.151751  14.824903  25.540546  \n",
       "14    10.752918  14.863813  23.495460  14.863813  24.199438  \n",
       "20    11.203268  13.479085  22.697386  13.479085  23.498263  \n",
       "25    11.225554  13.560626  22.902868  13.560626  23.451880  \n",
       "50    10.926316  13.248026  22.141447  13.248026  22.624073  "
      ]
     },
     "execution_count": 22,
     "metadata": {},
     "output_type": "execute_result"
    }
   ],
   "source": [
    "# Menampilkan 5 harga termahal\n",
    "destination_price.head()"
   ]
  },
  {
   "cell_type": "code",
   "execution_count": 23,
   "metadata": {},
   "outputs": [
    {
     "data": {
      "text/html": [
       "<div>\n",
       "<style scoped>\n",
       "    .dataframe tbody tr th:only-of-type {\n",
       "        vertical-align: middle;\n",
       "    }\n",
       "\n",
       "    .dataframe tbody tr th {\n",
       "        vertical-align: top;\n",
       "    }\n",
       "\n",
       "    .dataframe thead th {\n",
       "        text-align: right;\n",
       "    }\n",
       "</style>\n",
       "<table border=\"1\" class=\"dataframe\">\n",
       "  <thead>\n",
       "    <tr style=\"text-align: right;\">\n",
       "      <th>name</th>\n",
       "      <th>source</th>\n",
       "      <th>destination</th>\n",
       "      <th>Black</th>\n",
       "      <th>Black SUV</th>\n",
       "      <th>Lux</th>\n",
       "      <th>Lux Black</th>\n",
       "      <th>Lux Black XL</th>\n",
       "      <th>Lyft</th>\n",
       "      <th>Lyft XL</th>\n",
       "      <th>Shared</th>\n",
       "      <th>UberPool</th>\n",
       "      <th>UberX</th>\n",
       "      <th>UberXL</th>\n",
       "      <th>WAV</th>\n",
       "      <th>mean</th>\n",
       "    </tr>\n",
       "  </thead>\n",
       "  <tbody>\n",
       "    <tr>\n",
       "      <th>44</th>\n",
       "      <td>North Station</td>\n",
       "      <td>Haymarket Square</td>\n",
       "      <td>15.675427</td>\n",
       "      <td>26.900788</td>\n",
       "      <td>11.389430</td>\n",
       "      <td>16.716968</td>\n",
       "      <td>27.111961</td>\n",
       "      <td>7.054242</td>\n",
       "      <td>10.425591</td>\n",
       "      <td>4.125174</td>\n",
       "      <td>6.455979</td>\n",
       "      <td>7.286465</td>\n",
       "      <td>10.509855</td>\n",
       "      <td>7.286465</td>\n",
       "      <td>12.578196</td>\n",
       "    </tr>\n",
       "    <tr>\n",
       "      <th>35</th>\n",
       "      <td>Haymarket Square</td>\n",
       "      <td>West End</td>\n",
       "      <td>15.616120</td>\n",
       "      <td>26.887295</td>\n",
       "      <td>10.821429</td>\n",
       "      <td>16.620536</td>\n",
       "      <td>26.957589</td>\n",
       "      <td>7.069196</td>\n",
       "      <td>9.625744</td>\n",
       "      <td>4.045387</td>\n",
       "      <td>6.508880</td>\n",
       "      <td>7.831967</td>\n",
       "      <td>10.538934</td>\n",
       "      <td>7.831967</td>\n",
       "      <td>12.529587</td>\n",
       "    </tr>\n",
       "    <tr>\n",
       "      <th>56</th>\n",
       "      <td>South Station</td>\n",
       "      <td>Financial District</td>\n",
       "      <td>15.633252</td>\n",
       "      <td>26.883252</td>\n",
       "      <td>11.041505</td>\n",
       "      <td>16.956550</td>\n",
       "      <td>27.517510</td>\n",
       "      <td>7.170558</td>\n",
       "      <td>9.756161</td>\n",
       "      <td>4.113489</td>\n",
       "      <td>5.363081</td>\n",
       "      <td>7.224939</td>\n",
       "      <td>10.468826</td>\n",
       "      <td>7.224939</td>\n",
       "      <td>12.446172</td>\n",
       "    </tr>\n",
       "    <tr>\n",
       "      <th>29</th>\n",
       "      <td>Financial District</td>\n",
       "      <td>South Station</td>\n",
       "      <td>15.630196</td>\n",
       "      <td>26.878973</td>\n",
       "      <td>10.949416</td>\n",
       "      <td>16.849546</td>\n",
       "      <td>27.361219</td>\n",
       "      <td>7.114786</td>\n",
       "      <td>9.246433</td>\n",
       "      <td>4.075227</td>\n",
       "      <td>6.089242</td>\n",
       "      <td>7.183985</td>\n",
       "      <td>9.712103</td>\n",
       "      <td>7.183985</td>\n",
       "      <td>12.356259</td>\n",
       "    </tr>\n",
       "    <tr>\n",
       "      <th>33</th>\n",
       "      <td>Haymarket Square</td>\n",
       "      <td>North Station</td>\n",
       "      <td>15.613158</td>\n",
       "      <td>26.877632</td>\n",
       "      <td>10.797636</td>\n",
       "      <td>16.604312</td>\n",
       "      <td>26.926287</td>\n",
       "      <td>7.018081</td>\n",
       "      <td>9.166898</td>\n",
       "      <td>4.068150</td>\n",
       "      <td>6.789474</td>\n",
       "      <td>7.171711</td>\n",
       "      <td>9.817105</td>\n",
       "      <td>7.171711</td>\n",
       "      <td>12.335179</td>\n",
       "    </tr>\n",
       "  </tbody>\n",
       "</table>\n",
       "</div>"
      ],
      "text/plain": [
       "name              source         destination      Black  Black SUV        Lux  \\\n",
       "44         North Station    Haymarket Square  15.675427  26.900788  11.389430   \n",
       "35      Haymarket Square            West End  15.616120  26.887295  10.821429   \n",
       "56         South Station  Financial District  15.633252  26.883252  11.041505   \n",
       "29    Financial District       South Station  15.630196  26.878973  10.949416   \n",
       "33      Haymarket Square       North Station  15.613158  26.877632  10.797636   \n",
       "\n",
       "name  Lux Black  Lux Black XL      Lyft    Lyft XL    Shared  UberPool  \\\n",
       "44    16.716968     27.111961  7.054242  10.425591  4.125174  6.455979   \n",
       "35    16.620536     26.957589  7.069196   9.625744  4.045387  6.508880   \n",
       "56    16.956550     27.517510  7.170558   9.756161  4.113489  5.363081   \n",
       "29    16.849546     27.361219  7.114786   9.246433  4.075227  6.089242   \n",
       "33    16.604312     26.926287  7.018081   9.166898  4.068150  6.789474   \n",
       "\n",
       "name     UberX     UberXL       WAV       mean  \n",
       "44    7.286465  10.509855  7.286465  12.578196  \n",
       "35    7.831967  10.538934  7.831967  12.529587  \n",
       "56    7.224939  10.468826  7.224939  12.446172  \n",
       "29    7.183985   9.712103  7.183985  12.356259  \n",
       "33    7.171711   9.817105  7.171711  12.335179  "
      ]
     },
     "execution_count": 23,
     "metadata": {},
     "output_type": "execute_result"
    }
   ],
   "source": [
    "# Menampilkan 5 harga termurah\n",
    "destination_price.tail()"
   ]
  },
  {
   "cell_type": "markdown",
   "metadata": {},
   "source": [
    "<b>Insight : </b> \n",
    "Berdasarkan data dalam tabel, perjalanan dari Financial District ke Boston University memiliki tarif rata-rata tertinggi sekitar 24.61 USD. Taksi termahal untuk rute ini adalah yang ditawarkan oleh Lyft dengan jenis Layanan Lux BlackXL, dengan biaya sebesar 46.77 USD, sedangkan yang termurah adalah dengan jenis Layanan Shared milik Lyft, dengan tarif hanya 9.32 USD.\n",
    "\n",
    "Sementara itu, perjalanan dengan biaya rata-rata terendah adalah dari Haymarket Square ke North Station sekitar 12.42 USD. Taksi termahal untuk rute ini juga disediakan oleh Lyft dengan jenis Layanan Lux BlackXL, dengan tarif sekitar 26.92 USD, dan yang termurah adalah dengan jenis Layanan Shared milik Lyft, dengan biaya hanya 4.07 USD."
   ]
  },
  {
   "cell_type": "markdown",
   "metadata": {},
   "source": [
    "### Data Preprocessing"
   ]
  },
  {
   "cell_type": "markdown",
   "metadata": {},
   "source": [
    "#### Encoding Data"
   ]
  },
  {
   "cell_type": "code",
   "execution_count": 24,
   "metadata": {},
   "outputs": [],
   "source": [
    "#Melakukan encoding pada atribut yang memiliki tipe data Object.\n",
    "le = LabelEncoder()\n",
    "df.cab_type = le.fit_transform(df.cab_type)\n",
    "df.name = le.fit_transform(df.name)\n",
    "df.source = le.fit_transform(df.source)\n",
    "df.destination = le.fit_transform(df.destination)\n",
    "\n",
    "X = df.copy().drop('price', axis=1)\n",
    "y = df['price']"
   ]
  },
  {
   "cell_type": "markdown",
   "metadata": {},
   "source": [
    "#### Definisi Model"
   ]
  },
  {
   "cell_type": "code",
   "execution_count": 25,
   "metadata": {},
   "outputs": [
    {
     "name": "stdout",
     "output_type": "stream",
     "text": [
      "Training dataset\t: 510380\n",
      "Testing dataset\t\t: 127596\n"
     ]
    }
   ],
   "source": [
    "# Membuat data latih dan data uji dengan indikasi 20% ke data uji 80% ke data latih \n",
    "X_train, X_test, y_train, y_test = train_test_split(X, y, test_size = 0.2, random_state=0)\n",
    "\n",
    "print(f\"Training dataset\\t: {len(X_train)}\")\n",
    "print(f\"Testing dataset\\t\\t: {len(X_test)}\")"
   ]
  },
  {
   "cell_type": "code",
   "execution_count": 26,
   "metadata": {},
   "outputs": [],
   "source": [
    "scaler = StandardScaler()\n",
    "scaled_X_train = scaler.fit_transform(X_train)\n",
    "scaled_X_test = scaler.transform(X_test)"
   ]
  },
  {
   "cell_type": "code",
   "execution_count": 27,
   "metadata": {},
   "outputs": [
    {
     "name": "stdout",
     "output_type": "stream",
     "text": [
      "Dimensi X :  (637976, 10)\n",
      "Dimensi y :  (637976,)\n"
     ]
    }
   ],
   "source": [
    "print(\"Dimensi X : \", X.shape)\n",
    "print(\"Dimensi y : \", y.shape)"
   ]
  },
  {
   "cell_type": "markdown",
   "metadata": {},
   "source": [
    "#### Pelatihan Model"
   ]
  },
  {
   "cell_type": "code",
   "execution_count": 28,
   "metadata": {},
   "outputs": [
    {
     "data": {
      "text/html": [
       "<style>#sk-container-id-1 {color: black;}#sk-container-id-1 pre{padding: 0;}#sk-container-id-1 div.sk-toggleable {background-color: white;}#sk-container-id-1 label.sk-toggleable__label {cursor: pointer;display: block;width: 100%;margin-bottom: 0;padding: 0.3em;box-sizing: border-box;text-align: center;}#sk-container-id-1 label.sk-toggleable__label-arrow:before {content: \"▸\";float: left;margin-right: 0.25em;color: #696969;}#sk-container-id-1 label.sk-toggleable__label-arrow:hover:before {color: black;}#sk-container-id-1 div.sk-estimator:hover label.sk-toggleable__label-arrow:before {color: black;}#sk-container-id-1 div.sk-toggleable__content {max-height: 0;max-width: 0;overflow: hidden;text-align: left;background-color: #f0f8ff;}#sk-container-id-1 div.sk-toggleable__content pre {margin: 0.2em;color: black;border-radius: 0.25em;background-color: #f0f8ff;}#sk-container-id-1 input.sk-toggleable__control:checked~div.sk-toggleable__content {max-height: 200px;max-width: 100%;overflow: auto;}#sk-container-id-1 input.sk-toggleable__control:checked~label.sk-toggleable__label-arrow:before {content: \"▾\";}#sk-container-id-1 div.sk-estimator input.sk-toggleable__control:checked~label.sk-toggleable__label {background-color: #d4ebff;}#sk-container-id-1 div.sk-label input.sk-toggleable__control:checked~label.sk-toggleable__label {background-color: #d4ebff;}#sk-container-id-1 input.sk-hidden--visually {border: 0;clip: rect(1px 1px 1px 1px);clip: rect(1px, 1px, 1px, 1px);height: 1px;margin: -1px;overflow: hidden;padding: 0;position: absolute;width: 1px;}#sk-container-id-1 div.sk-estimator {font-family: monospace;background-color: #f0f8ff;border: 1px dotted black;border-radius: 0.25em;box-sizing: border-box;margin-bottom: 0.5em;}#sk-container-id-1 div.sk-estimator:hover {background-color: #d4ebff;}#sk-container-id-1 div.sk-parallel-item::after {content: \"\";width: 100%;border-bottom: 1px solid gray;flex-grow: 1;}#sk-container-id-1 div.sk-label:hover label.sk-toggleable__label {background-color: #d4ebff;}#sk-container-id-1 div.sk-serial::before {content: \"\";position: absolute;border-left: 1px solid gray;box-sizing: border-box;top: 0;bottom: 0;left: 50%;z-index: 0;}#sk-container-id-1 div.sk-serial {display: flex;flex-direction: column;align-items: center;background-color: white;padding-right: 0.2em;padding-left: 0.2em;position: relative;}#sk-container-id-1 div.sk-item {position: relative;z-index: 1;}#sk-container-id-1 div.sk-parallel {display: flex;align-items: stretch;justify-content: center;background-color: white;position: relative;}#sk-container-id-1 div.sk-item::before, #sk-container-id-1 div.sk-parallel-item::before {content: \"\";position: absolute;border-left: 1px solid gray;box-sizing: border-box;top: 0;bottom: 0;left: 50%;z-index: -1;}#sk-container-id-1 div.sk-parallel-item {display: flex;flex-direction: column;z-index: 1;position: relative;background-color: white;}#sk-container-id-1 div.sk-parallel-item:first-child::after {align-self: flex-end;width: 50%;}#sk-container-id-1 div.sk-parallel-item:last-child::after {align-self: flex-start;width: 50%;}#sk-container-id-1 div.sk-parallel-item:only-child::after {width: 0;}#sk-container-id-1 div.sk-dashed-wrapped {border: 1px dashed gray;margin: 0 0.4em 0.5em 0.4em;box-sizing: border-box;padding-bottom: 0.4em;background-color: white;}#sk-container-id-1 div.sk-label label {font-family: monospace;font-weight: bold;display: inline-block;line-height: 1.2em;}#sk-container-id-1 div.sk-label-container {text-align: center;}#sk-container-id-1 div.sk-container {/* jupyter's `normalize.less` sets `[hidden] { display: none; }` but bootstrap.min.css set `[hidden] { display: none !important; }` so we also need the `!important` here to be able to override the default hidden behavior on the sphinx rendered scikit-learn.org. See: https://github.com/scikit-learn/scikit-learn/issues/21755 */display: inline-block !important;position: relative;}#sk-container-id-1 div.sk-text-repr-fallback {display: none;}</style><div id=\"sk-container-id-1\" class=\"sk-top-container\"><div class=\"sk-text-repr-fallback\"><pre>LinearRegression()</pre><b>In a Jupyter environment, please rerun this cell to show the HTML representation or trust the notebook. <br />On GitHub, the HTML representation is unable to render, please try loading this page with nbviewer.org.</b></div><div class=\"sk-container\" hidden><div class=\"sk-item\"><div class=\"sk-estimator sk-toggleable\"><input class=\"sk-toggleable__control sk-hidden--visually\" id=\"sk-estimator-id-1\" type=\"checkbox\" checked><label for=\"sk-estimator-id-1\" class=\"sk-toggleable__label sk-toggleable__label-arrow\">LinearRegression</label><div class=\"sk-toggleable__content\"><pre>LinearRegression()</pre></div></div></div></div></div>"
      ],
      "text/plain": [
       "LinearRegression()"
      ]
     },
     "execution_count": 28,
     "metadata": {},
     "output_type": "execute_result"
    }
   ],
   "source": [
    "# Membuat objek model regresi linear dengan library scikit-learn\n",
    "model = LinearRegression()\n",
    "model.fit(X_train, y_train)"
   ]
  },
  {
   "cell_type": "code",
   "execution_count": 29,
   "metadata": {},
   "outputs": [],
   "source": [
    "y_pred = model.predict(X_test)"
   ]
  },
  {
   "cell_type": "code",
   "execution_count": 30,
   "metadata": {},
   "outputs": [
    {
     "name": "stdout",
     "output_type": "stream",
     "text": [
      "(127596, 10)\n",
      "(127596,)\n",
      "(127596,)\n"
     ]
    }
   ],
   "source": [
    "print(X_test.shape)\n",
    "print(y_test.shape)\n",
    "print(y_pred.shape)"
   ]
  },
  {
   "cell_type": "code",
   "execution_count": 31,
   "metadata": {},
   "outputs": [
    {
     "name": "stdout",
     "output_type": "stream",
     "text": [
      "MAE  : 5.307818400866181\n",
      "MAPE : 0.408480575996606\n",
      "R2   : 0.46944811784196805\n",
      "MSE  : 46.414460999031135\n",
      "RMSE : 6.812815937557034\n"
     ]
    }
   ],
   "source": [
    "# Menghitung MAE\n",
    "print(f'MAE  : {mean_absolute_error(y_test, y_pred)}')\n",
    "\n",
    "# Menghitung MAPE\n",
    "print(f'MAPE : {mean_absolute_percentage_error(y_test, y_pred)}')\n",
    "\n",
    "# Menghitung R2\n",
    "print(f'R2   : {r2_score(y_test, y_pred)}')\n",
    "\n",
    "# Menghitung MSE\n",
    "print(f'MSE  : {mean_squared_error(y_test, y_pred)}')\n",
    "\n",
    "# Menghitung RMSE\n",
    "print(f'RMSE : {np.sqrt(mean_squared_error(y_test, y_pred))}')"
   ]
  },
  {
   "cell_type": "markdown",
   "metadata": {},
   "source": [
    "### Model Lain : Decision Tree"
   ]
  },
  {
   "cell_type": "code",
   "execution_count": 32,
   "metadata": {},
   "outputs": [
    {
     "name": "stdout",
     "output_type": "stream",
     "text": [
      "Decision Tree train R squared : 1.0000\n",
      "Decision Tree test R squared  : 0.8503\n"
     ]
    }
   ],
   "source": [
    "dt = DecisionTreeRegressor()\n",
    "dt_model = dt.fit(X_train, y_train)\n",
    "\n",
    "y_pred2 = dt_model.predict(X_test)\n",
    "l_dt_train_r2 = dt.score(X_train,y_train)\n",
    "l_dt_test_r2 = dt.score(X_test, y_test)\n",
    "\n",
    "print('Decision Tree train R squared : %.4f' % l_dt_train_r2)\n",
    "print('Decision Tree test R squared  : %.4f' % l_dt_test_r2)"
   ]
  },
  {
   "cell_type": "code",
   "execution_count": 33,
   "metadata": {},
   "outputs": [
    {
     "name": "stdout",
     "output_type": "stream",
     "text": [
      "Decision Tree Regressor RMSE: 3.6186\n"
     ]
    }
   ],
   "source": [
    "dt_mse = mean_squared_error(y_pred2, y_test)\n",
    "dt_rmse = np.sqrt(dt_mse)\n",
    "print('Decision Tree Regressor RMSE: %.4f' % dt_rmse)"
   ]
  },
  {
   "cell_type": "markdown",
   "metadata": {},
   "source": [
    "1. MAE mengukur rata-rata absolut dari selisih antara nilai sebenarnya (y_test) dan nilai yang diprediksi (y_pred). Ini memberikan gambaran tentang seberapa besar kesalahan prediksi secara keseluruhan.\n",
    "2. MAPE mengukur rata-rata persentase kesalahan absolut dari selisih antara nilai sebenarnya (y_test) dan nilai yang diprediksi (y_pred). Ini memberikan pemahaman tentang seberapa besar kesalahan prediksi sebagai persentase dari nilai sebenarnya.\n",
    "3. R2 mengukur seberapa baik model regresi cocok dengan data. Nilai R2 berkisar antara 0 dan 1. Nilai yang lebih tinggi menunjukkan bahwa model lebih baik dalam menjelaskan variasi dalam data.\n",
    "4. MSE mengukur rata-rata dari kuadrat kesalahan antara nilai sebenarnya (y_test) dan nilai yang diprediksi (y_pred). Ini memberikan penekanan pada kesalahan yang lebih besar.\n",
    "5. RMSE adalah akar kuadrat dari MSE. Ini memberikan gambaran tentang kesalahan rata-rata antara nilai sebenarnya dan nilai yang diprediksi, dengan nilai yang lebih rendah menunjukkan kualitas prediksi yang lebih baik.\n",
    "\n",
    "<br>\n",
    "<b> Kesimpulan : </b> <br>\n",
    "\n",
    "1. Terdapat 10 fitur yang mempengaruhi tarif Uber dan Lyft, yaitu 'timestamp', \"cab_type\",\"name\",\"hour\",\"day\",\"month\", \"source\", \"destination\",\"distance\", \"price\" \n",
    "2. Metode yang tepat dalam pembuatan model adalah Decision Tree karena nilai R2 nya memiliki akurasi yang lebih tinggi daripada Linear Regression dengan tingkat akurasi Decision Tree test R squared  di atas 85% dan nilai RMSE yang rendah yaitu 3.6030, yang berarti kualitas prediksi yang lebih baik."
   ]
  }
 ],
 "metadata": {
  "kernelspec": {
   "display_name": "snowflakes",
   "language": "python",
   "name": "python3"
  },
  "language_info": {
   "codemirror_mode": {
    "name": "ipython",
    "version": 3
   },
   "file_extension": ".py",
   "mimetype": "text/x-python",
   "name": "python",
   "nbconvert_exporter": "python",
   "pygments_lexer": "ipython3",
   "version": "3.11.4"
  }
 },
 "nbformat": 4,
 "nbformat_minor": 2
}
